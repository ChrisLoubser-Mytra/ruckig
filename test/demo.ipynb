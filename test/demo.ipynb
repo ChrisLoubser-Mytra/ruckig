{
  "cells": [
    {
      "cell_type": "markdown",
      "metadata": {
        "colab_type": "text",
        "id": "hyyN-2qyK_T2"
      },
      "source": [
        "# Ruckig - Motion Generation for Robots and Machines\n",
        "\n",
        "Github Repo: [https://github.com/pantor/ruckig](https://github.com/pantor/ruckig)\n",
        "\n",
        "## Install Dependencies Using Pip\n",
        "\n",
        "\n",
        "```\n",
        "pip install ruckig\n",
        "```"
      ]
    },
    {
      "cell_type": "code",
      "execution_count": null,
      "metadata": {
        "colab": {},
        "colab_type": "code",
        "id": "gWskDE2c9WoN"
      },
      "outputs": [],
      "source": [
        "!pip install ruckig"
      ]
    },
    {
      "cell_type": "markdown",
      "metadata": {
        "colab_type": "text",
        "id": "FtY8FhliLsGm"
      },
      "source": [
        "## Import Ruckig"
      ]
    },
    {
      "cell_type": "code",
      "execution_count": 6,
      "metadata": {
        "colab": {},
        "colab_type": "code",
        "id": "BIedd7Pz9sOs"
      },
      "outputs": [],
      "source": [
        "from ruckig import Ruckig, InputParameter, Trajectory"
      ]
    },
    {
      "cell_type": "code",
      "execution_count": 7,
      "metadata": {
        "colab": {},
        "colab_type": "code",
        "id": "SpMDXP0vmezv"
      },
      "outputs": [],
      "source": [
        "inp = InputParameter(3)\n",
        "ruckig = Ruckig(3, 0.001)\n",
        "\n",
        "inp.current_position = [0.0, -2.0, 0.0]\n",
        "inp.current_velocity = [0.0, 0.0, 0.0]\n",
        "inp.current_acceleration = [0.0, 0.0, 0.0]\n",
        "\n",
        "inp.target_position = [1.0, -3.0, 2.0]\n",
        "inp.target_velocity = [0.0, 0.0, 0.0]\n",
        "inp.target_acceleration = [0.0, 0.0, 0.0]\n",
        "\n",
        "inp.max_velocity = [1.0, 1.0, 1.0]\n",
        "inp.max_acceleration = [1.0, 1.0, 1.0]\n",
        "inp.max_jerk = [1.0, 1.0, 1.0]"
      ]
    },
    {
      "cell_type": "markdown",
      "metadata": {
        "colab_type": "text",
        "id": "eezphIrRmr-Y"
      },
      "source": [
        "### Offline Trajectory Generation"
      ]
    },
    {
      "cell_type": "code",
      "execution_count": null,
      "metadata": {
        "colab": {},
        "colab_type": "code",
        "id": "CQT1k7lWmmTL"
      },
      "outputs": [],
      "source": [
        "traj = Trajectory(3)\n",
        "\n",
        "ruckig.calculate(inp, traj)\n",
        "\n",
        "print(f'Trajectory duration: {traj.duration:0.4f} [s]')"
      ]
    }
  ],
  "metadata": {
    "colab": {
      "collapsed_sections": [],
      "name": "pybullet.ipynb",
      "provenance": []
    },
    "kernelspec": {
      "display_name": "Python 3",
      "name": "python3"
    }
  },
  "nbformat": 4,
  "nbformat_minor": 0
}
